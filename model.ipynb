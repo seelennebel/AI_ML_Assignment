{
 "cells": [
  {
   "cell_type": "markdown",
   "id": "7d13aa3a-d90d-40f1-ab74-f55aa651b46a",
   "metadata": {},
   "source": [
    "# The Problem\n",
    "### Distributed Denial of Service (DDoS) attack vectors are one of the most powerful methods of corrupting various computer systems and applications. They can exhaust the computational resoures which can lead to service's disruption or huge financial losses by utilizing too much energy or purchased resources on some cloud platform\n",
    "\n",
    "### For businesses that rely on cloud technologies it is crucial to have availability of their services since it can be one of the value propositions that this business has. Therefore, I would like to create a machile learning pipeline that can be used in company's Intrusion Detection System (IDS) to indicate DDoS attacks and help to mitigate them"
   ]
  },
  {
   "cell_type": "markdown",
   "id": "b5f405c2-daa3-4bd1-bbaf-7708f82ae809",
   "metadata": {},
   "source": [
    "# Machine Learning Task\n",
    "### Develop a machine learning model to classify incoming network packets and identify if packets are malicious or normal"
   ]
  },
  {
   "cell_type": "markdown",
   "id": "419e2bad-3b5a-4ac6-b81e-d6114d779dd1",
   "metadata": {},
   "source": [
    "# Dataset overview\n",
    "### To train the model, the CIC-IDS2017 dataset was used. The dataset of Canadian Institute of Cybersecurity contains modern attacks stored in a real-world format (PCAP). The collection of captured packets \n",
    "\n",
    "## $$\\{(x_i,y_i)\\}^N_{i=1}$$\n",
    "### - $N(size\\;of\\;the\\;collection) = 225745$ corresponds to the number of rows in the dataset\n",
    "### - $x_i$ is D-dimensional feature vector (columns), where $D=78\\;$(excluding the target label)\n",
    "### - $y_i$ is a target label for every $x_i$"
   ]
  },
  {
   "cell_type": "markdown",
   "id": "d6dcbc5d-78cf-464e-b13a-eb484c9b10db",
   "metadata": {},
   "source": [
    "#"
   ]
  },
  {
   "cell_type": "markdown",
   "id": "813adc35-f0bb-48de-9105-975debef8f99",
   "metadata": {},
   "source": [
    "# Learning Algorithm Selection\n",
    "### - Explainability: the model will be presented to technical audience and doesn't necessairly require explainability\n",
    "### - In-memory vs out-of-memory: in the scope of this assignment, the entire dataset can be loaded into computer's RAM. Hovewer, it will be assumed that the model has to be updated incrementally to simulate the real-world scenario of using intrusion detection systems\n",
    "### - The number of features and examples is more than 100k\n",
    "### - The feature vector $x_i$ is mostly numerical\n",
    "### - Is the data linear???\n",
    "### - The training speed of the model is not a constraint\n",
    "### - Prediction speed should be relatively fast"
   ]
  },
  {
   "cell_type": "markdown",
   "id": "130c480a-0237-4a73-89ac-1bb865222484",
   "metadata": {},
   "source": [
    "# Possible classification ML models:\n",
    "### - Support Vector Machine (SVM)\n",
    "### - KNeighbours Classifier\n",
    "### - Gradient Boosting"
   ]
  },
  {
   "cell_type": "markdown",
   "id": "c828c2b5-8d19-4179-b51d-8f0c4ad9f6cb",
   "metadata": {},
   "source": [
    "# The machine learning pipeline"
   ]
  },
  {
   "cell_type": "markdown",
   "id": "2f5881c6-d1a8-4094-907d-666548b04f12",
   "metadata": {},
   "source": [
    "### Dependencies"
   ]
  },
  {
   "cell_type": "code",
   "execution_count": 4,
   "id": "b2acc3ac-cdff-42c4-b81a-9c0cb734b1ac",
   "metadata": {},
   "outputs": [],
   "source": [
    "# dataframes and plotting\n",
    "import pandas as pd\n",
    "import matplotlib.pyplot as plt\n",
    "\n",
    "# math\n",
    "import numpy as np\n",
    "\n",
    "# data cleaning\n",
    "from sklearn.impute import SimpleImputer\n",
    "\n",
    "# creating sets\n",
    "from sklearn.model_selection import train_test_split\n",
    "\n",
    "from sklearn.svm import SVC\n",
    "from sklearn.metrics import accuracy_score"
   ]
  },
  {
   "cell_type": "markdown",
   "id": "220bb258-7a8c-4ad3-a480-8e7b55fb414c",
   "metadata": {},
   "source": [
    "# Data Exploration"
   ]
  },
  {
   "cell_type": "markdown",
   "id": "7e541a7c-9a99-45d0-990a-f0b10b3777cb",
   "metadata": {},
   "source": [
    "### Data Overview"
   ]
  },
  {
   "cell_type": "code",
   "execution_count": 53,
   "id": "f05a6571-db23-487f-b273-3218cc318277",
   "metadata": {},
   "outputs": [],
   "source": [
    "ddos = pd.read_csv(\"./DDoS_dataset.csv\")\n",
    "\n",
    "pd.set_option(\"display.max_info_rows\", 10)"
   ]
  },
  {
   "cell_type": "code",
   "execution_count": 2,
   "id": "f82f7b93-37d7-4a59-a2b6-25a01d049c56",
   "metadata": {},
   "outputs": [],
   "source": [
    "#ddos.info()"
   ]
  },
  {
   "cell_type": "markdown",
   "id": "b01043ae-597d-4e64-9f24-bdec6882ff1d",
   "metadata": {},
   "source": [
    "# Data Preprocessing"
   ]
  },
  {
   "cell_type": "markdown",
   "id": "b8be27eb-1dd7-4bf9-a50b-658f8fbf0243",
   "metadata": {},
   "source": [
    "### Data Cleaning"
   ]
  },
  {
   "cell_type": "code",
   "execution_count": 54,
   "id": "20b05d47-a289-43d6-9278-92dc2f2032ea",
   "metadata": {},
   "outputs": [
    {
     "data": {
      "text/plain": [
       "Destination Port               False\n",
       "Flow Duration                  False\n",
       "Total Fwd Packets              False\n",
       "Total Backward Packets         False\n",
       "Total Length of Fwd Packets    False\n",
       "Total Length of Bwd Packets    False\n",
       "Fwd Packet Length Max          False\n",
       "Fwd Packet Length Min          False\n",
       "Fwd Packet Length Mean         False\n",
       "Fwd Packet Length Std          False\n",
       "Bwd Packet Length Max          False\n",
       "Bwd Packet Length Min          False\n",
       "Bwd Packet Length Mean         False\n",
       "Bwd Packet Length Std          False\n",
       "Flow Bytes/s                    True\n",
       "Flow Packets/s                  True\n",
       "Flow IAT Mean                  False\n",
       "Flow IAT Std                   False\n",
       "Flow IAT Max                   False\n",
       "Flow IAT Min                   False\n",
       "Fwd IAT Total                  False\n",
       "Fwd IAT Mean                   False\n",
       "Fwd IAT Std                    False\n",
       "Fwd IAT Max                    False\n",
       "Fwd IAT Min                    False\n",
       "Bwd IAT Total                  False\n",
       "Bwd IAT Mean                   False\n",
       "Bwd IAT Std                    False\n",
       "Bwd IAT Max                    False\n",
       "Bwd IAT Min                    False\n",
       "Fwd PSH Flags                  False\n",
       "Bwd PSH Flags                  False\n",
       "Fwd URG Flags                  False\n",
       "Bwd URG Flags                  False\n",
       "Fwd Header Length              False\n",
       "Bwd Header Length              False\n",
       "Fwd Packets/s                  False\n",
       "Bwd Packets/s                  False\n",
       "Min Packet Length              False\n",
       "Max Packet Length              False\n",
       "Packet Length Mean             False\n",
       "Packet Length Std              False\n",
       "Packet Length Variance         False\n",
       "FIN Flag Count                 False\n",
       "SYN Flag Count                 False\n",
       "RST Flag Count                 False\n",
       "PSH Flag Count                 False\n",
       "ACK Flag Count                 False\n",
       "URG Flag Count                 False\n",
       "CWE Flag Count                 False\n",
       "ECE Flag Count                 False\n",
       "Down/Up Ratio                  False\n",
       "Average Packet Size            False\n",
       "Avg Fwd Segment Size           False\n",
       "Avg Bwd Segment Size           False\n",
       "Fwd Header Length.1            False\n",
       "Fwd Avg Bytes/Bulk             False\n",
       "Fwd Avg Packets/Bulk           False\n",
       "Fwd Avg Bulk Rate              False\n",
       "Bwd Avg Bytes/Bulk             False\n",
       "Bwd Avg Packets/Bulk           False\n",
       "Bwd Avg Bulk Rate              False\n",
       "Subflow Fwd Packets            False\n",
       "Subflow Fwd Bytes              False\n",
       "Subflow Bwd Packets            False\n",
       "Subflow Bwd Bytes              False\n",
       "Init_Win_bytes_forward         False\n",
       "Init_Win_bytes_backward        False\n",
       "act_data_pkt_fwd               False\n",
       "min_seg_size_forward           False\n",
       "Active Mean                    False\n",
       "Active Std                     False\n",
       "Active Max                     False\n",
       "Active Min                     False\n",
       "Idle Mean                      False\n",
       "Idle Std                       False\n",
       "Idle Max                       False\n",
       "Idle Min                       False\n",
       "Label                          False\n",
       "dtype: bool"
      ]
     },
     "execution_count": 54,
     "metadata": {},
     "output_type": "execute_result"
    }
   ],
   "source": [
    "# remove unnecessary spaces from dataset's column names\n",
    "ddos_mapper = lambda x : x.strip()\n",
    "ddos = ddos.rename(mapper=ddos_mapper, axis=1)\n",
    "\n",
    "ddos = ddos.fillna(np.nan)\n",
    "ddos = ddos.replace(np.inf, np.nan)\n",
    "\n",
    "pd.set_option(\"display.max_rows\", None)\n",
    "ddos.isna().any()"
   ]
  },
  {
   "cell_type": "markdown",
   "id": "5737a445-7bfe-4edf-983f-d6bd9d7c9e89",
   "metadata": {},
   "source": [
    "### Creating training, validation, and testing sets"
   ]
  },
  {
   "cell_type": "code",
   "execution_count": 55,
   "id": "9f5c33fb-8eb7-4bb1-97f4-8d03fec48ff2",
   "metadata": {},
   "outputs": [],
   "source": [
    "ddos_training, ddos_other = train_test_split(ddos, train_size=0.8)\n",
    "ddos_validation, ddos_testing = train_test_split(ddos_other, test_size=0.5)\n",
    "\n",
    "# training x and y vectors\n",
    "ddos_training_X = ddos_training.drop(columns=\"Label\")\n",
    "ddos_training_Y = ddos_training[\"Label\"]"
   ]
  },
  {
   "cell_type": "markdown",
   "id": "0e21ede8-26a2-4518-9efc-c3820453c4b5",
   "metadata": {},
   "source": [
    "### Data Imputation"
   ]
  },
  {
   "cell_type": "code",
   "execution_count": 61,
   "id": "d7850e75-c1f5-4381-8be4-9e2a00a1a212",
   "metadata": {},
   "outputs": [
    {
     "name": "stdout",
     "output_type": "stream",
     "text": [
      "<class 'pandas.core.frame.DataFrame'>\n",
      "RangeIndex: 180596 entries, 0 to 180595\n",
      "Data columns (total 78 columns):\n",
      " #   Column                       Dtype  \n",
      "---  ------                       -----  \n",
      " 0   Destination Port             float64\n",
      " 1   Flow Duration                float64\n",
      " 2   Total Fwd Packets            float64\n",
      " 3   Total Backward Packets       float64\n",
      " 4   Total Length of Fwd Packets  float64\n",
      " 5   Total Length of Bwd Packets  float64\n",
      " 6   Fwd Packet Length Max        float64\n",
      " 7   Fwd Packet Length Min        float64\n",
      " 8   Fwd Packet Length Mean       float64\n",
      " 9   Fwd Packet Length Std        float64\n",
      " 10  Bwd Packet Length Max        float64\n",
      " 11  Bwd Packet Length Min        float64\n",
      " 12  Bwd Packet Length Mean       float64\n",
      " 13  Bwd Packet Length Std        float64\n",
      " 14  Flow Bytes/s                 float64\n",
      " 15  Flow Packets/s               float64\n",
      " 16  Flow IAT Mean                float64\n",
      " 17  Flow IAT Std                 float64\n",
      " 18  Flow IAT Max                 float64\n",
      " 19  Flow IAT Min                 float64\n",
      " 20  Fwd IAT Total                float64\n",
      " 21  Fwd IAT Mean                 float64\n",
      " 22  Fwd IAT Std                  float64\n",
      " 23  Fwd IAT Max                  float64\n",
      " 24  Fwd IAT Min                  float64\n",
      " 25  Bwd IAT Total                float64\n",
      " 26  Bwd IAT Mean                 float64\n",
      " 27  Bwd IAT Std                  float64\n",
      " 28  Bwd IAT Max                  float64\n",
      " 29  Bwd IAT Min                  float64\n",
      " 30  Fwd PSH Flags                float64\n",
      " 31  Bwd PSH Flags                float64\n",
      " 32  Fwd URG Flags                float64\n",
      " 33  Bwd URG Flags                float64\n",
      " 34  Fwd Header Length            float64\n",
      " 35  Bwd Header Length            float64\n",
      " 36  Fwd Packets/s                float64\n",
      " 37  Bwd Packets/s                float64\n",
      " 38  Min Packet Length            float64\n",
      " 39  Max Packet Length            float64\n",
      " 40  Packet Length Mean           float64\n",
      " 41  Packet Length Std            float64\n",
      " 42  Packet Length Variance       float64\n",
      " 43  FIN Flag Count               float64\n",
      " 44  SYN Flag Count               float64\n",
      " 45  RST Flag Count               float64\n",
      " 46  PSH Flag Count               float64\n",
      " 47  ACK Flag Count               float64\n",
      " 48  URG Flag Count               float64\n",
      " 49  CWE Flag Count               float64\n",
      " 50  ECE Flag Count               float64\n",
      " 51  Down/Up Ratio                float64\n",
      " 52  Average Packet Size          float64\n",
      " 53  Avg Fwd Segment Size         float64\n",
      " 54  Avg Bwd Segment Size         float64\n",
      " 55  Fwd Header Length.1          float64\n",
      " 56  Fwd Avg Bytes/Bulk           float64\n",
      " 57  Fwd Avg Packets/Bulk         float64\n",
      " 58  Fwd Avg Bulk Rate            float64\n",
      " 59  Bwd Avg Bytes/Bulk           float64\n",
      " 60  Bwd Avg Packets/Bulk         float64\n",
      " 61  Bwd Avg Bulk Rate            float64\n",
      " 62  Subflow Fwd Packets          float64\n",
      " 63  Subflow Fwd Bytes            float64\n",
      " 64  Subflow Bwd Packets          float64\n",
      " 65  Subflow Bwd Bytes            float64\n",
      " 66  Init_Win_bytes_forward       float64\n",
      " 67  Init_Win_bytes_backward      float64\n",
      " 68  act_data_pkt_fwd             float64\n",
      " 69  min_seg_size_forward         float64\n",
      " 70  Active Mean                  float64\n",
      " 71  Active Std                   float64\n",
      " 72  Active Max                   float64\n",
      " 73  Active Min                   float64\n",
      " 74  Idle Mean                    float64\n",
      " 75  Idle Std                     float64\n",
      " 76  Idle Max                     float64\n",
      " 77  Idle Min                     float64\n",
      "dtypes: float64(78)\n",
      "memory usage: 107.5 MB\n"
     ]
    }
   ],
   "source": [
    "nan_imputer = SimpleImputer(missing_values=np.nan, strategy=\"mean\")\n",
    "ddos_training_X = pd.DataFrame(nan_imputer.fit_transform(ddos_training_X), columns=ddos_training_X.columns)\n",
    "\n",
    "ddos_training_X.info()"
   ]
  },
  {
   "cell_type": "code",
   "execution_count": 62,
   "id": "9fff4213-1217-446d-a469-2507b03d3081",
   "metadata": {},
   "outputs": [
    {
     "data": {
      "text/plain": [
       "<BarContainer object of 2 artists>"
      ]
     },
     "execution_count": 62,
     "metadata": {},
     "output_type": "execute_result"
    },
    {
     "data": {
      "image/png": "[encoded data removed]",
      "text/plain": [
       "<Figure size 640x480 with 1 Axes>"
      ]
     },
     "metadata": {},
     "output_type": "display_data"
    }
   ],
   "source": [
    "label_counts = ddos[\"Label\"].value_counts()\n",
    "plt.bar(label_counts.index, label_counts.values)"
   ]
  }
 ],
 "metadata": {
  "kernelspec": {
   "display_name": "venv",
   "language": "python",
   "name": "venv"
  },
  "language_info": {
   "codemirror_mode": {
    "name": "ipython",
    "version": 3
   },
   "file_extension": ".py",
   "mimetype": "text/x-python",
   "name": "python",
   "nbconvert_exporter": "python",
   "pygments_lexer": "ipython3",
   "version": "3.12.5"
  }
 },
 "nbformat": 4,
 "nbformat_minor": 5
}
